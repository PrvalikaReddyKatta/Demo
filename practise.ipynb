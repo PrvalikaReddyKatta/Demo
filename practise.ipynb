{
 "cells": [
  {
   "cell_type": "code",
   "execution_count": 18,
   "id": "defdef63",
   "metadata": {},
   "outputs": [
    {
     "name": "stdout",
     "output_type": "stream",
     "text": [
      "342391\n"
     ]
    }
   ],
   "source": [
    "print(0o1234567)"
   ]
  },
  {
   "cell_type": "code",
   "execution_count": 19,
   "id": "d6f935e2",
   "metadata": {},
   "outputs": [
    {
     "data": {
      "text/plain": [
       "3.5"
      ]
     },
     "execution_count": 19,
     "metadata": {},
     "output_type": "execute_result"
    }
   ],
   "source": [
    "7 / 2"
   ]
  },
  {
   "cell_type": "code",
   "execution_count": 20,
   "id": "22c2e5eb",
   "metadata": {},
   "outputs": [
    {
     "data": {
      "text/plain": [
       "0.0"
      ]
     },
     "execution_count": 20,
     "metadata": {},
     "output_type": "execute_result"
    }
   ],
   "source": [
    "0 / 5"
   ]
  },
  {
   "cell_type": "code",
   "execution_count": 37,
   "id": "933a2dfb",
   "metadata": {},
   "outputs": [
    {
     "name": "stdout",
     "output_type": "stream",
     "text": [
      "your income is: 250000 and you would pay: 12500.0 for ripoffland: 107500.0 difference is: 95000.0\n"
     ]
    }
   ],
   "source": [
    "income = 250_000\n",
    "lowtaxland_rate = 0.05\n",
    "ripoffland_rate = 0.43\n",
    "print('your income is:', income, 'and you would pay:', income * lowtaxland_rate, 'for ripoffland:', income * ripoffland_rate, \n",
    "      'difference is:', income * ripoffland_rate - income * lowtaxland_rate)"
   ]
  },
  {
   "cell_type": "code",
   "execution_count": 39,
   "id": "0d04c8c7",
   "metadata": {},
   "outputs": [
    {
     "name": "stdout",
     "output_type": "stream",
     "text": [
      "your income is 40000 monthly salary difference is 1000\n"
     ]
    }
   ],
   "source": [
    "income = 40_000\n",
    "salary1 = 3000\n",
    "salary2 = 4000\n",
    "print('your income is', income, 'monthly salary difference is', salary2 - salary1)"
   ]
  },
  {
   "cell_type": "code",
   "execution_count": 46,
   "id": "dd84291b",
   "metadata": {},
   "outputs": [
    {
     "name": "stdout",
     "output_type": "stream",
     "text": [
      "enter your login:prav\n",
      "you speak:telugu\n",
      "your login is: prav you speak: telugu\n"
     ]
    }
   ],
   "source": [
    "login = input('enter your login:' )\n",
    "language = input('you speak:' )\n",
    "print('your login is:', login, 'you speak:', language)"
   ]
  },
  {
   "cell_type": "code",
   "execution_count": 47,
   "id": "f4481528",
   "metadata": {},
   "outputs": [
    {
     "name": "stdout",
     "output_type": "stream",
     "text": [
      "give me a float number35\n",
      "35\n"
     ]
    }
   ],
   "source": [
    "mistery = input('give me a float number')\n",
    "print(mistery)"
   ]
  },
  {
   "cell_type": "code",
   "execution_count": 49,
   "id": "5ae67870",
   "metadata": {},
   "outputs": [
    {
     "name": "stdout",
     "output_type": "stream",
     "text": [
      "which year you were born:1998\n",
      "your date of birth is: 25\n"
     ]
    }
   ],
   "source": [
    "your_born_year = int(input('which year you were born:' ))\n",
    "print('your date of birth is:', 2023 - your_born_year)\n"
   ]
  },
  {
   "cell_type": "code",
   "execution_count": 51,
   "id": "8bc96297",
   "metadata": {},
   "outputs": [
    {
     "name": "stdout",
     "output_type": "stream",
     "text": [
      "how many hours did you work in the last month?10\n",
      "what is your hourly rate?10\n",
      "last month you earned: 100.0 dollars\n"
     ]
    }
   ],
   "source": [
    "hours = float(input('how many hours did you work in the last month?' ))\n",
    "price = float(input('what is your hourly rate?' ))\n",
    "print('last month you earned:', hours * price, 'dollars')"
   ]
  },
  {
   "cell_type": "code",
   "execution_count": 55,
   "id": "a7624860",
   "metadata": {},
   "outputs": [
    {
     "name": "stdout",
     "output_type": "stream",
     "text": [
      "hello   world\n"
     ]
    }
   ],
   "source": [
    "print('hello', end='')\n",
    "print('world')"
   ]
  },
  {
   "cell_type": "code",
   "execution_count": 60,
   "id": "d70bdc3a",
   "metadata": {},
   "outputs": [
    {
     "data": {
      "text/plain": [
       "0"
      ]
     },
     "execution_count": 60,
     "metadata": {},
     "output_type": "execute_result"
    }
   ],
   "source": [
    "12 >> 10"
   ]
  },
  {
   "cell_type": "code",
   "execution_count": 5,
   "id": "a1109328",
   "metadata": {},
   "outputs": [
    {
     "name": "stdout",
     "output_type": "stream",
     "text": [
      "[-5, 2, 3] \n",
      " [1, 2]\n"
     ]
    }
   ],
   "source": [
    "list_original = [1, 2, 3]\n",
    "list_new = list_original[:2]\n",
    "list_original[0] = -5\n",
    "print(list_original, '\\n',list_new)"
   ]
  },
  {
   "cell_type": "code",
   "execution_count": 15,
   "id": "d1bd5892",
   "metadata": {},
   "outputs": [
    {
     "name": "stdout",
     "output_type": "stream",
     "text": [
      "[3, 6, 9, 12, 15, 18, 21, 24, 27, 30, 33, 36, 39, 42, 45, 48]\n"
     ]
    }
   ],
   "source": [
    "numbers = [i for i in range(1, 50) if i % 3 == 0]\n",
    "print(numbers)"
   ]
  },
  {
   "cell_type": "code",
   "execution_count": 16,
   "id": "f9e076ee",
   "metadata": {},
   "outputs": [
    {
     "name": "stdout",
     "output_type": "stream",
     "text": [
      "*\n"
     ]
    }
   ],
   "source": [
    "i = 0\n",
    "while True:\n",
    "    i <= 10:\n",
    "    i += 1\n",
    "    if i % 2 == 0:\n",
    "        break\n",
    "    print('*')\n",
    "    if i > 10:\n",
    "        break\n"
   ]
  },
  {
   "cell_type": "code",
   "execution_count": 38,
   "id": "26087f70",
   "metadata": {},
   "outputs": [
    {
     "name": "stdout",
     "output_type": "stream",
     "text": [
      "number of l is 0\n",
      "number of l is 0\n",
      "number of l is 1\n",
      "number of l is 2\n",
      "number of l is 2\n",
      "number of l is 2\n"
     ]
    }
   ],
   "source": [
    "def print_letter_count(text='Helloo', letter='l'):\n",
    "    counter = 0\n",
    "    for char in text:\n",
    "        if char == letter:\n",
    "            counter += 1\n",
    "        print('number of', letter, 'is', counter)\n",
    "print_letter_count()"
   ]
  },
  {
   "cell_type": "code",
   "execution_count": 31,
   "id": "699be45b",
   "metadata": {},
   "outputs": [
    {
     "name": "stdout",
     "output_type": "stream",
     "text": [
      "Email Credentails\n"
     ]
    }
   ],
   "source": [
    "def my_function(name, mail):\n",
    "     print(name +  ' Credentails')\n",
    "my_function('Email')"
   ]
  },
  {
   "cell_type": "code",
   "execution_count": null,
   "id": "b1c00186",
   "metadata": {},
   "outputs": [],
   "source": []
  }
 ],
 "metadata": {
  "kernelspec": {
   "display_name": "Python 3 (ipykernel)",
   "language": "python",
   "name": "python3"
  },
  "language_info": {
   "codemirror_mode": {
    "name": "ipython",
    "version": 3
   },
   "file_extension": ".py",
   "mimetype": "text/x-python",
   "name": "python",
   "nbconvert_exporter": "python",
   "pygments_lexer": "ipython3",
   "version": "3.11.5"
  }
 },
 "nbformat": 4,
 "nbformat_minor": 5
}
