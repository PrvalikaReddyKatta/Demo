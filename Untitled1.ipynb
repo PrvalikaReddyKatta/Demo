{
 "cells": [
  {
   "cell_type": "code",
   "execution_count": 7,
   "id": "6de79114",
   "metadata": {},
   "outputs": [
    {
     "ename": "SyntaxError",
     "evalue": "invalid syntax (920867882.py, line 10)",
     "output_type": "error",
     "traceback": [
      "\u001b[1;36m  Cell \u001b[1;32mIn[7], line 10\u001b[1;36m\u001b[0m\n\u001b[1;33m    for k == 1:\u001b[0m\n\u001b[1;37m          ^\u001b[0m\n\u001b[1;31mSyntaxError\u001b[0m\u001b[1;31m:\u001b[0m invalid syntax\n"
     ]
    }
   ],
   "source": [
    "function_y = Conv(x, W)\n",
    "\n",
    "[wrow, wcol, numFilters] = size(W);\n",
    "[xrow, xcol, ~         ] = size(x);\n",
    "\n",
    "yrow = xrow - wrow + 1;\n",
    "ycol = xcol - wcol + 1;\n",
    "\n",
    "y = zeros(yrow, ycol, numFilters);\n",
    "\n",
    "for k =1:numFilters\n",
    "    filter = W(:,  ;, k);\n",
    "    filter = rot90(squeeze(filter), 2);\n",
    "    y(:,  :, k) = conv2(x, filter, 'valid');\n",
    "    end\n",
    "    \n",
    "end "
   ]
  },
  {
   "cell_type": "code",
   "execution_count": null,
   "id": "7709fef8",
   "metadata": {},
   "outputs": [],
   "source": []
  }
 ],
 "metadata": {
  "kernelspec": {
   "display_name": "Python 3 (ipykernel)",
   "language": "python",
   "name": "python3"
  },
  "language_info": {
   "codemirror_mode": {
    "name": "ipython",
    "version": 3
   },
   "file_extension": ".py",
   "mimetype": "text/x-python",
   "name": "python",
   "nbconvert_exporter": "python",
   "pygments_lexer": "ipython3",
   "version": "3.11.5"
  }
 },
 "nbformat": 4,
 "nbformat_minor": 5
}
